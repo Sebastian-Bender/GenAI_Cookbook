{
 "cells": [
  {
   "cell_type": "code",
   "execution_count": 1,
   "id": "a9305ff2",
   "metadata": {},
   "outputs": [
    {
     "data": {
      "text/plain": [
       "True"
      ]
     },
     "execution_count": 1,
     "metadata": {},
     "output_type": "execute_result"
    }
   ],
   "source": [
    "from dotenv import load_dotenv\n",
    "load_dotenv()"
   ]
  },
  {
   "cell_type": "markdown",
   "id": "caa9ef28",
   "metadata": {},
   "source": [
    "Dataset from Kaggle (https://www.kaggle.com/datasets/urvishahir/electric-vehicle-specifications-dataset-2025)"
   ]
  },
  {
   "cell_type": "code",
   "execution_count": 2,
   "id": "d63535dd",
   "metadata": {},
   "outputs": [
    {
     "data": {
      "text/plain": [
       "478"
      ]
     },
     "execution_count": 2,
     "metadata": {},
     "output_type": "execute_result"
    }
   ],
   "source": [
    "import sqlite3\n",
    "import pandas as pd\n",
    "import os\n",
    "\n",
    "# Specify the CSV file path and database name\n",
    "csv_file = os.path.join('data', 'electric_vehicles_spec_2025.csv.csv')  # Replace 'your_file.csv' with your actual file name\n",
    "db_file = 'my_database.db'\n",
    "\n",
    "# Read CSV into DataFrame\n",
    "df = pd.read_csv(csv_file)\n",
    "\n",
    "# Create SQLite database and write DataFrame to it\n",
    "conn = sqlite3.connect(db_file)\n",
    "df.to_sql('my_table', conn, if_exists='replace', index=False)"
   ]
  },
  {
   "cell_type": "code",
   "execution_count": 3,
   "id": "2a06f63e",
   "metadata": {},
   "outputs": [
    {
     "name": "stdout",
     "output_type": "stream",
     "text": [
      "    brand                model  top_speed_kmh  battery_capacity_kWh  \\\n",
      "0  Abarth     500e Convertible            155                  37.8   \n",
      "1  Abarth       500e Hatchback            155                  37.8   \n",
      "2  Abarth  600e Scorpionissima            200                  50.8   \n",
      "3  Abarth         600e Turismo            200                  50.8   \n",
      "4  Aiways                   U5            150                  60.0   \n",
      "\n",
      "  battery_type  number_of_cells  torque_nm  efficiency_wh_per_km  range_km  \\\n",
      "0  Lithium-ion            192.0      235.0                   156       225   \n",
      "1  Lithium-ion            192.0      235.0                   149       225   \n",
      "2  Lithium-ion            102.0      345.0                   158       280   \n",
      "3  Lithium-ion            102.0      345.0                   158       280   \n",
      "4  Lithium-ion              NaN      310.0                   156       315   \n",
      "\n",
      "   acceleration_0_100_s  ...  towing_capacity_kg cargo_volume_l  seats  \\\n",
      "0                   7.0  ...                 0.0            185      4   \n",
      "1                   7.0  ...                 0.0            185      4   \n",
      "2                   5.9  ...                 0.0            360      5   \n",
      "3                   6.2  ...                 0.0            360      5   \n",
      "4                   7.5  ...                 NaN            496      5   \n",
      "\n",
      "  drivetrain       segment length_mm width_mm  height_mm  car_body_type  \\\n",
      "0        FWD   B - Compact      3673     1683       1518      Hatchback   \n",
      "1        FWD   B - Compact      3673     1683       1518      Hatchback   \n",
      "2        FWD  JB - Compact      4187     1779       1557            SUV   \n",
      "3        FWD  JB - Compact      4187     1779       1557            SUV   \n",
      "4        FWD   JC - Medium      4680     1865       1700            SUV   \n",
      "\n",
      "                                          source_url  \n",
      "0  https://ev-database.org/car/1904/Abarth-500e-C...  \n",
      "1  https://ev-database.org/car/1903/Abarth-500e-H...  \n",
      "2  https://ev-database.org/car/3057/Abarth-600e-S...  \n",
      "3  https://ev-database.org/car/3056/Abarth-600e-T...  \n",
      "4         https://ev-database.org/car/1678/Aiways-U5  \n",
      "\n",
      "[5 rows x 22 columns]\n"
     ]
    }
   ],
   "source": [
    "# Test the connection by querying the first 5 rows\n",
    "test_df = pd.read_sql_query(\"SELECT * FROM my_table LIMIT 5;\", conn)\n",
    "print(test_df)"
   ]
  },
  {
   "cell_type": "code",
   "execution_count": 4,
   "id": "b94871cc",
   "metadata": {},
   "outputs": [
    {
     "name": "stdout",
     "output_type": "stream",
     "text": [
      "                             model\n",
      "0                  S6 Avant e-tron\n",
      "1              S6 Sportback e-tron\n",
      "2                       SQ6 e-tron\n",
      "3             SQ6 e-tron Sportback\n",
      "4                     e-tron GT RS\n",
      "..                             ...\n",
      "67  Model 3 Performance (Highland)\n",
      "68              Model S Dual Motor\n",
      "69                   Model S Plaid\n",
      "70              Model X Dual Motor\n",
      "71                   Model X Plaid\n",
      "\n",
      "[72 rows x 1 columns]\n"
     ]
    }
   ],
   "source": [
    "test_df = pd.read_sql_query(\"SELECT model FROM my_table where top_speed_kmh > 210;\", conn)\n",
    "print(test_df)"
   ]
  },
  {
   "cell_type": "code",
   "execution_count": null,
   "id": "1fa65849",
   "metadata": {},
   "outputs": [],
   "source": []
  },
  {
   "cell_type": "code",
   "execution_count": 5,
   "id": "f8746852",
   "metadata": {},
   "outputs": [],
   "source": [
    "def warn(*args, **kwargs):\n",
    "    pass\n",
    "import warnings\n",
    "warnings.warn = warn\n",
    "warnings.filterwarnings('ignore')\n",
    "from langchain.agents import AgentType\n",
    "from langchain_community.utilities.sql_database import SQLDatabase\n",
    "from langchain_community.agent_toolkits import create_sql_agent\n",
    "from langchain.chat_models import init_chat_model\n",
    "import sqlalchemy\n",
    "\n",
    "\n",
    "llm = init_chat_model(\"gemini-2.5-flash\", model_provider=\"google_genai\", temperature=0.0)\n",
    "\n",
    "db_file = 'my_database.db'\n",
    "engine = sqlalchemy.create_engine(f\"sqlite:///{db_file}\")\n",
    "\n",
    "db = SQLDatabase(engine)\n",
    "\n",
    "agent_executor = create_sql_agent(llm=llm, db=db, verbose=True, handle_parsing_errors=True, agent_type=AgentType.ZERO_SHOT_REACT_DESCRIPTION)"
   ]
  },
  {
   "cell_type": "code",
   "execution_count": 6,
   "id": "e58f1f13",
   "metadata": {},
   "outputs": [
    {
     "name": "stdout",
     "output_type": "stream",
     "text": [
      "\n",
      "\n",
      "\u001b[1m> Entering new SQL Agent Executor chain...\u001b[0m\n",
      "\u001b[32;1m\u001b[1;3mAction: sql_db_list_tables\n",
      "Action Input:\u001b[0m\u001b[38;5;200m\u001b[1;3mmy_table\u001b[0m\u001b[32;1m\u001b[1;3mAction: sql_db_schema\n",
      "Action Input: my_table\u001b[0m\u001b[33;1m\u001b[1;3m\n",
      "CREATE TABLE my_table (\n",
      "\tbrand TEXT, \n",
      "\tmodel TEXT, \n",
      "\ttop_speed_kmh INTEGER, \n",
      "\t\"battery_capacity_kWh\" REAL, \n",
      "\tbattery_type TEXT, \n",
      "\tnumber_of_cells REAL, \n",
      "\ttorque_nm REAL, \n",
      "\tefficiency_wh_per_km INTEGER, \n",
      "\trange_km INTEGER, \n",
      "\tacceleration_0_100_s REAL, \n",
      "\tfast_charging_power_kw_dc REAL, \n",
      "\tfast_charge_port TEXT, \n",
      "\ttowing_capacity_kg REAL, \n",
      "\tcargo_volume_l TEXT, \n",
      "\tseats INTEGER, \n",
      "\tdrivetrain TEXT, \n",
      "\tsegment TEXT, \n",
      "\tlength_mm INTEGER, \n",
      "\twidth_mm INTEGER, \n",
      "\theight_mm INTEGER, \n",
      "\tcar_body_type TEXT, \n",
      "\tsource_url TEXT\n",
      ")\n",
      "\n",
      "/*\n",
      "3 rows from my_table table:\n",
      "brand\tmodel\ttop_speed_kmh\tbattery_capacity_kWh\tbattery_type\tnumber_of_cells\ttorque_nm\tefficiency_wh_per_km\trange_km\tacceleration_0_100_s\tfast_charging_power_kw_dc\tfast_charge_port\ttowing_capacity_kg\tcargo_volume_l\tseats\tdrivetrain\tsegment\tlength_mm\twidth_mm\theight_mm\tcar_body_type\tsource_url\n",
      "Abarth\t500e Convertible\t155\t37.8\tLithium-ion\t192.0\t235.0\t156\t225\t7.0\t67.0\tCCS\t0.0\t185\t4\tFWD\tB - Compact\t3673\t1683\t1518\tHatchback\thttps://ev-database.org/car/1904/Abarth-500e-Convertible\n",
      "Abarth\t500e Hatchback\t155\t37.8\tLithium-ion\t192.0\t235.0\t149\t225\t7.0\t67.0\tCCS\t0.0\t185\t4\tFWD\tB - Compact\t3673\t1683\t1518\tHatchback\thttps://ev-database.org/car/1903/Abarth-500e-Hatchback\n",
      "Abarth\t600e Scorpionissima\t200\t50.8\tLithium-ion\t102.0\t345.0\t158\t280\t5.9\t79.0\tCCS\t0.0\t360\t5\tFWD\tJB - Compact\t4187\t1779\t1557\tSUV\thttps://ev-database.org/car/3057/Abarth-600e-Scorpionissima\n",
      "*/\u001b[0m\u001b[32;1m\u001b[1;3mAction: sql_db_query_checker\n",
      "Action Input: SELECT brand, model, top_speed_kmh FROM my_table WHERE top_speed_kmh > 210 ORDER BY top_speed_kmh DESC LIMIT 5\u001b[0m\u001b[36;1m\u001b[1;3m```sql\n",
      "SELECT brand, model, top_speed_kmh FROM my_table WHERE top_speed_kmh > 210 ORDER BY top_speed_kmh DESC LIMIT 5\n",
      "```\u001b[0m\u001b[32;1m\u001b[1;3mAction: sql_db_query\n",
      "Action Input: SELECT brand, model, top_speed_kmh FROM my_table WHERE top_speed_kmh > 210 ORDER BY top_speed_kmh DESC LIMIT 5\u001b[0m\u001b[36;1m\u001b[1;3m[('Maserati', 'GranTurismo Folgore', 325), ('Porsche', 'Taycan Turbo GT Weissach', 305), ('Maserati', 'GranCabrio Folgore', 290), ('Porsche', 'Taycan Turbo GT', 290), ('Tesla', 'Model S Plaid', 282)]\u001b[0m\u001b[32;1m\u001b[1;3mFinal Answer: The top 5 electric vehicles with a top speed greater than 210 km/h are:\n",
      "* Maserati GranTurismo Folgore (325 km/h)\n",
      "* Porsche Taycan Turbo GT Weissach (305 km/h)\n",
      "* Maserati GranCabrio Folgore (290 km/h)\n",
      "* Porsche Taycan Turbo GT (290 km/h)\n",
      "* Tesla Model S Plaid (282 km/h)\u001b[0m\n",
      "\n",
      "\u001b[1m> Finished chain.\u001b[0m\n"
     ]
    },
    {
     "data": {
      "text/plain": [
       "{'input': 'What are the top 5 electric vehicles with a top speed greater than 210 km/h?',\n",
       " 'output': 'The top 5 electric vehicles with a top speed greater than 210 km/h are:\\n* Maserati GranTurismo Folgore (325 km/h)\\n* Porsche Taycan Turbo GT Weissach (305 km/h)\\n* Maserati GranCabrio Folgore (290 km/h)\\n* Porsche Taycan Turbo GT (290 km/h)\\n* Tesla Model S Plaid (282 km/h)'}"
      ]
     },
     "execution_count": 6,
     "metadata": {},
     "output_type": "execute_result"
    }
   ],
   "source": [
    "agent_executor.invoke(\"What are the top 5 electric vehicles with a top speed greater than 210 km/h?\")  # Example query"
   ]
  },
  {
   "cell_type": "code",
   "execution_count": 7,
   "id": "dd19d220",
   "metadata": {},
   "outputs": [
    {
     "name": "stdout",
     "output_type": "stream",
     "text": [
      "\n",
      "\n",
      "\u001b[1m> Entering new SQL Agent Executor chain...\u001b[0m\n",
      "\u001b[32;1m\u001b[1;3mAction: sql_db_list_tables\n",
      "Action Input:\u001b[0m\u001b[38;5;200m\u001b[1;3mmy_table\u001b[0m\u001b[32;1m\u001b[1;3mAction: sql_db_schema\n",
      "Action Input: my_table\u001b[0m\u001b[33;1m\u001b[1;3m\n",
      "CREATE TABLE my_table (\n",
      "\tbrand TEXT, \n",
      "\tmodel TEXT, \n",
      "\ttop_speed_kmh INTEGER, \n",
      "\t\"battery_capacity_kWh\" REAL, \n",
      "\tbattery_type TEXT, \n",
      "\tnumber_of_cells REAL, \n",
      "\ttorque_nm REAL, \n",
      "\tefficiency_wh_per_km INTEGER, \n",
      "\trange_km INTEGER, \n",
      "\tacceleration_0_100_s REAL, \n",
      "\tfast_charging_power_kw_dc REAL, \n",
      "\tfast_charge_port TEXT, \n",
      "\ttowing_capacity_kg REAL, \n",
      "\tcargo_volume_l TEXT, \n",
      "\tseats INTEGER, \n",
      "\tdrivetrain TEXT, \n",
      "\tsegment TEXT, \n",
      "\tlength_mm INTEGER, \n",
      "\twidth_mm INTEGER, \n",
      "\theight_mm INTEGER, \n",
      "\tcar_body_type TEXT, \n",
      "\tsource_url TEXT\n",
      ")\n",
      "\n",
      "/*\n",
      "3 rows from my_table table:\n",
      "brand\tmodel\ttop_speed_kmh\tbattery_capacity_kWh\tbattery_type\tnumber_of_cells\ttorque_nm\tefficiency_wh_per_km\trange_km\tacceleration_0_100_s\tfast_charging_power_kw_dc\tfast_charge_port\ttowing_capacity_kg\tcargo_volume_l\tseats\tdrivetrain\tsegment\tlength_mm\twidth_mm\theight_mm\tcar_body_type\tsource_url\n",
      "Abarth\t500e Convertible\t155\t37.8\tLithium-ion\t192.0\t235.0\t156\t225\t7.0\t67.0\tCCS\t0.0\t185\t4\tFWD\tB - Compact\t3673\t1683\t1518\tHatchback\thttps://ev-database.org/car/1904/Abarth-500e-Convertible\n",
      "Abarth\t500e Hatchback\t155\t37.8\tLithium-ion\t192.0\t235.0\t149\t225\t7.0\t67.0\tCCS\t0.0\t185\t4\tFWD\tB - Compact\t3673\t1683\t1518\tHatchback\thttps://ev-database.org/car/1903/Abarth-500e-Hatchback\n",
      "Abarth\t600e Scorpionissima\t200\t50.8\tLithium-ion\t102.0\t345.0\t158\t280\t5.9\t79.0\tCCS\t0.0\t360\t5\tFWD\tJB - Compact\t4187\t1779\t1557\tSUV\thttps://ev-database.org/car/3057/Abarth-600e-Scorpionissima\n",
      "*/\u001b[0m\u001b[32;1m\u001b[1;3mAction: sql_db_query_checker\n",
      "Action Input: SELECT brand, model, top_speed_kmh FROM my_table WHERE top_speed_kmh > 210 ORDER BY top_speed_kmh DESC LIMIT 5\u001b[0m\u001b[36;1m\u001b[1;3m```sql\n",
      "SELECT brand, model, top_speed_kmh FROM my_table WHERE top_speed_kmh > 210 ORDER BY top_speed_kmh DESC LIMIT 5\n",
      "```\u001b[0m\u001b[32;1m\u001b[1;3mAction: sql_db_query\n",
      "Action Input: SELECT brand, model, top_speed_kmh FROM my_table WHERE top_speed_kmh > 210 ORDER BY top_speed_kmh DESC LIMIT 5\u001b[0m\u001b[36;1m\u001b[1;3m[('Maserati', 'GranTurismo Folgore', 325), ('Porsche', 'Taycan Turbo GT Weissach', 305), ('Maserati', 'GranCabrio Folgore', 290), ('Porsche', 'Taycan Turbo GT', 290), ('Tesla', 'Model S Plaid', 282)]\u001b[0m\u001b[32;1m\u001b[1;3mFinal Answer: The top 5 electric vehicles with a top speed greater than 210 km/h are:\n",
      "* Maserati GranTurismo Folgore (325 km/h)\n",
      "* Porsche Taycan Turbo GT Weissach (305 km/h)\n",
      "* Maserati GranCabrio Folgore (290 km/h)\n",
      "* Porsche Taycan Turbo GT (290 km/h)\n",
      "* Tesla Model S Plaid (282 km/h)\u001b[0m\n",
      "\n",
      "\u001b[1m> Finished chain.\u001b[0m\n"
     ]
    }
   ],
   "source": [
    "result = agent_executor.invoke(\"What are the top 5 electric vehicles with a top speed greater than 210 km/h?\")  # Example query"
   ]
  },
  {
   "cell_type": "code",
   "execution_count": 11,
   "id": "65a85905",
   "metadata": {},
   "outputs": [
    {
     "name": "stdout",
     "output_type": "stream",
     "text": [
      "The top 5 electric vehicles with a top speed greater than 210 km/h are:\n",
      "* Maserati GranTurismo Folgore (325 km/h)\n",
      "* Porsche Taycan Turbo GT Weissach (305 km/h)\n",
      "* Maserati GranCabrio Folgore (290 km/h)\n",
      "* Porsche Taycan Turbo GT (290 km/h)\n",
      "* Tesla Model S Plaid (282 km/h)\n"
     ]
    }
   ],
   "source": [
    "print(result['output'])"
   ]
  },
  {
   "cell_type": "code",
   "execution_count": 13,
   "id": "3c51d651",
   "metadata": {},
   "outputs": [
    {
     "name": "stdout",
     "output_type": "stream",
     "text": [
      "\n",
      "\n",
      "\u001b[1m> Entering new SQL Agent Executor chain...\u001b[0m\n",
      "\u001b[32;1m\u001b[1;3mAction: sql_db_list_tables\n",
      "Action Input:\u001b[0m\u001b[38;5;200m\u001b[1;3mmy_table\u001b[0m\u001b[32;1m\u001b[1;3mAction: sql_db_schema\n",
      "Action Input: my_table\u001b[0m\u001b[33;1m\u001b[1;3m\n",
      "CREATE TABLE my_table (\n",
      "\tbrand TEXT, \n",
      "\tmodel TEXT, \n",
      "\ttop_speed_kmh INTEGER, \n",
      "\t\"battery_capacity_kWh\" REAL, \n",
      "\tbattery_type TEXT, \n",
      "\tnumber_of_cells REAL, \n",
      "\ttorque_nm REAL, \n",
      "\tefficiency_wh_per_km INTEGER, \n",
      "\trange_km INTEGER, \n",
      "\tacceleration_0_100_s REAL, \n",
      "\tfast_charging_power_kw_dc REAL, \n",
      "\tfast_charge_port TEXT, \n",
      "\ttowing_capacity_kg REAL, \n",
      "\tcargo_volume_l TEXT, \n",
      "\tseats INTEGER, \n",
      "\tdrivetrain TEXT, \n",
      "\tsegment TEXT, \n",
      "\tlength_mm INTEGER, \n",
      "\twidth_mm INTEGER, \n",
      "\theight_mm INTEGER, \n",
      "\tcar_body_type TEXT, \n",
      "\tsource_url TEXT\n",
      ")\n",
      "\n",
      "/*\n",
      "3 rows from my_table table:\n",
      "brand\tmodel\ttop_speed_kmh\tbattery_capacity_kWh\tbattery_type\tnumber_of_cells\ttorque_nm\tefficiency_wh_per_km\trange_km\tacceleration_0_100_s\tfast_charging_power_kw_dc\tfast_charge_port\ttowing_capacity_kg\tcargo_volume_l\tseats\tdrivetrain\tsegment\tlength_mm\twidth_mm\theight_mm\tcar_body_type\tsource_url\n",
      "Abarth\t500e Convertible\t155\t37.8\tLithium-ion\t192.0\t235.0\t156\t225\t7.0\t67.0\tCCS\t0.0\t185\t4\tFWD\tB - Compact\t3673\t1683\t1518\tHatchback\thttps://ev-database.org/car/1904/Abarth-500e-Convertible\n",
      "Abarth\t500e Hatchback\t155\t37.8\tLithium-ion\t192.0\t235.0\t149\t225\t7.0\t67.0\tCCS\t0.0\t185\t4\tFWD\tB - Compact\t3673\t1683\t1518\tHatchback\thttps://ev-database.org/car/1903/Abarth-500e-Hatchback\n",
      "Abarth\t600e Scorpionissima\t200\t50.8\tLithium-ion\t102.0\t345.0\t158\t280\t5.9\t79.0\tCCS\t0.0\t360\t5\tFWD\tJB - Compact\t4187\t1779\t1557\tSUV\thttps://ev-database.org/car/3057/Abarth-600e-Scorpionissima\n",
      "*/\u001b[0m\u001b[32;1m\u001b[1;3mAction: sql_db_query_checker\n",
      "Action Input: SELECT model, car_body_type FROM my_table WHERE brand = 'Audi' GROUP BY car_body_type, model ORDER BY car_body_type, model LIMIT 10\u001b[0m\u001b[36;1m\u001b[1;3m```sql\n",
      "SELECT model, car_body_type FROM my_table WHERE brand = 'Audi' GROUP BY car_body_type, model ORDER BY car_body_type, model LIMIT 10\n",
      "```\u001b[0m\u001b[32;1m\u001b[1;3mAction: sql_db_query\n",
      "Action Input: SELECT model, car_body_type FROM my_table WHERE brand = 'Audi' GROUP BY car_body_type, model ORDER BY car_body_type, model LIMIT 10\u001b[0m\u001b[36;1m\u001b[1;3m[('A6 Sportback e-tron', 'Liftback Sedan'), ('A6 Sportback e-tron performance', 'Liftback Sedan'), ('A6 Sportback e-tron quattro', 'Liftback Sedan'), ('S6 Sportback e-tron', 'Liftback Sedan'), ('Q4 Sportback e-tron 40', 'SUV'), ('Q4 Sportback e-tron 45', 'SUV'), ('Q4 Sportback e-tron 45 quattro', 'SUV'), ('Q4 Sportback e-tron 55 quattro', 'SUV'), ('Q4 e-tron 40', 'SUV'), ('Q4 e-tron 45', 'SUV')]\u001b[0m\u001b[32;1m\u001b[1;3mFinal Answer: Audi offers the following models grouped by car type:\n",
      "Liftback Sedan: A6 Sportback e-tron, A6 Sportback e-tron performance, A6 Sportback e-tron quattro, S6 Sportback e-tron\n",
      "SUV: Q4 Sportback e-tron 40, Q4 Sportback e-tron 45, Q4 Sportback e-tron 45 quattro, Q4 Sportback e-tron 55 quattro, Q4 e-tron 40, Q4 e-tron 45\u001b[0m\n",
      "\n",
      "\u001b[1m> Finished chain.\u001b[0m\n"
     ]
    }
   ],
   "source": [
    "result = agent_executor.invoke(\"What models does Audi offer? Group by car type!\", handle_parsing_errors=True)  # Example query"
   ]
  },
  {
   "cell_type": "code",
   "execution_count": 14,
   "id": "7e93c032",
   "metadata": {},
   "outputs": [
    {
     "name": "stdout",
     "output_type": "stream",
     "text": [
      "Audi offers the following models grouped by car type:\n",
      "Liftback Sedan: A6 Sportback e-tron, A6 Sportback e-tron performance, A6 Sportback e-tron quattro, S6 Sportback e-tron\n",
      "SUV: Q4 Sportback e-tron 40, Q4 Sportback e-tron 45, Q4 Sportback e-tron 45 quattro, Q4 Sportback e-tron 55 quattro, Q4 e-tron 40, Q4 e-tron 45\n"
     ]
    }
   ],
   "source": [
    "print(result['output'])"
   ]
  },
  {
   "cell_type": "code",
   "execution_count": null,
   "id": "7aa1299b",
   "metadata": {},
   "outputs": [],
   "source": []
  }
 ],
 "metadata": {
  "kernelspec": {
   "display_name": ".venv",
   "language": "python",
   "name": "python3"
  },
  "language_info": {
   "codemirror_mode": {
    "name": "ipython",
    "version": 3
   },
   "file_extension": ".py",
   "mimetype": "text/x-python",
   "name": "python",
   "nbconvert_exporter": "python",
   "pygments_lexer": "ipython3",
   "version": "3.13.3"
  }
 },
 "nbformat": 4,
 "nbformat_minor": 5
}
