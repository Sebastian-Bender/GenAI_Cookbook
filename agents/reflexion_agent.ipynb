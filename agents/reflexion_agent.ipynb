{
 "cells": [
  {
   "cell_type": "markdown",
   "id": "753e95bd",
   "metadata": {},
   "source": [
    "# Reflexion Agent"
   ]
  },
  {
   "cell_type": "markdown",
   "id": "a05ccc2d",
   "metadata": {},
   "source": [
    "## Workflow of a Reflexion Agent in LangGraph\n",
    "1. Generation Node: Produce Initial Attempt\n",
    "The agent generates a first response based on the prompt, prioritizing speed and creativity over perfection — for example, drafting a quick YouTube video script idea to work with.\n",
    "\n",
    "2. Reflection Node: Self-Critique and Plan\n",
    "The agent reviews its own output, identifying weaknesses, gaps, or missed opportunities. It creates an improvement plan — for instance, noting that the video script needs a stronger hook or clearer structure.\n",
    "\n",
    "3. Revision Node: Implement Improvements\n",
    "Using its self-critique, the agent revises the output. This may involve restructuring the content, adding missing details, or improving tone and flow until it aligns with the set goals.\n",
    "\n",
    "4. Evaluation Node: Check Against Goals\n",
    "The improved draft is assessed against predefined criteria (e.g., engagement, coherence, audience fit). If it passes, the workflow ends; if not, it loops back for further reflection and revision.\n",
    "\n",
    "5. Final Output: Deliver Enhanced Result\n",
    "Once the content meets the desired standard, the agent outputs a polished version — for example, a refined YouTube video script ready for production or review.\n",
    "\n"
   ]
  },
  {
   "cell_type": "markdown",
   "id": "82b01834",
   "metadata": {},
   "source": [
    "![Refexion Agent](../.github/assets/reflexion_agent.png)"
   ]
  },
  {
   "cell_type": "code",
   "execution_count": 1,
   "id": "6f34f894",
   "metadata": {},
   "outputs": [
    {
     "data": {
      "text/plain": [
       "True"
      ]
     },
     "execution_count": 1,
     "metadata": {},
     "output_type": "execute_result"
    }
   ],
   "source": [
    "import json\n",
    "from typing import List, Dict\n",
    "from pydantic import BaseModel, Field\n",
    "from langchain_core.prompts import ChatPromptTemplate, MessagesPlaceholder\n",
    "from langchain_core.messages import HumanMessage, AIMessage, ToolMessage, BaseMessage\n",
    "from langgraph.graph import END, MessageGraph\n",
    "from langchain.tools import Tool\n",
    "from ddgs import DDGS\n",
    "\n",
    "from dotenv import load_dotenv\n",
    "load_dotenv()"
   ]
  },
  {
   "cell_type": "code",
   "execution_count": 2,
   "id": "9ed79863",
   "metadata": {},
   "outputs": [],
   "source": [
    "from langchain.chat_models import init_chat_model\n",
    "from langchain.prompts import PromptTemplate\n",
    "\n",
    "summary_llm = init_chat_model(model='claude-3-haiku-20240307', model_provider='anthropic', temperature=0.0)\n",
    "llm = init_chat_model(model='claude-3-5-haiku-latest', model_provider='anthropic', temperature=0.0)\n",
    "\n",
    "summary_prompt = PromptTemplate.from_template(\n",
    "    \"Summarize the content in 4-6 sentences relevant to the query. \"\n",
    "    \"Return only your summary and nothing else. If their is no relevant content or the content is blocked, return 'no content'.\\n\\n\"\n",
    "    \"Query:{query}\\n\\n\"\n",
    "    \"Content:\\n\\n\"\n",
    "    \"{content}\"\n",
    ")\n",
    "\n",
    "summarizer = summary_prompt | summary_llm"
   ]
  },
  {
   "cell_type": "code",
   "execution_count": 3,
   "id": "e94e04b3",
   "metadata": {},
   "outputs": [],
   "source": [
    "import requests\n",
    "from bs4 import BeautifulSoup\n",
    "\n",
    "def fetch_and_clean(url):\n",
    "    try:\n",
    "        r = requests.get(url, timeout=10)\n",
    "        soup = BeautifulSoup(r.text, \"html.parser\")\n",
    "        return soup.get_text()\n",
    "    except Exception:\n",
    "        return \"\"\n"
   ]
  },
  {
   "cell_type": "code",
   "execution_count": 4,
   "id": "fb4363f6",
   "metadata": {},
   "outputs": [],
   "source": [
    "def duckduckgo_extended(query: str, max_results=3) -> list:\n",
    "    results = {'search':[]}\n",
    "    fetched_pages = []\n",
    "    with DDGS() as ddgs:\n",
    "        for r in ddgs.text(query, region=\"us-en\", max_results=max_results):\n",
    "            r.pop(\"body\")\n",
    "            fetched_pages.append(fetch_and_clean(r['href']))\n",
    "            results['search'].append(r)\n",
    "    summary = summarizer.invoke({'query': query, 'content': \"\\n\\n\\n\".join(fetched_pages)})\n",
    "    results['summary'] = {'summary': summary.content}\n",
    "    return results\n",
    "    \n",
    "    \n",
    "\n",
    "DuckDuckGoExtendedTool = Tool(\n",
    "    name=\"DuckDuckGo Extended Search\",\n",
    "    func=duckduckgo_extended,\n",
    "    description=\"Searches DuckDuckGo and retrieves up to N results.\"\n",
    ")"
   ]
  },
  {
   "cell_type": "code",
   "execution_count": 5,
   "id": "63f2feb7",
   "metadata": {},
   "outputs": [
    {
     "data": {
      "text/plain": [
       "{'search': [{'title': 'Understanding AI Regulations in Japan - Current Status and ...',\n",
       "   'href': 'https://www.dlapiper.com/en/insights/publications/2024/10/understanding-ai-regulations-in-japan-current-status-and-future-prospects'},\n",
       "  {'title': 'AI Watch: Global regulatory tracker - Japan | White & Case LLP',\n",
       "   'href': 'https://www.whitecase.com/insight-our-thinking/ai-watch-global-regulatory-tracker-japan'},\n",
       "  {'title': 'Understanding Japan\\'s AI Promotion Act: An \"Innovation-First ...',\n",
       "   'href': 'https://fpf.org/blog/understanding-japans-ai-promotion-act-an-innovation-first-blueprint-for-ai-regulation/'}],\n",
       " 'summary': {'summary': 'Here is a 4-6 sentence summary of the key points regarding AI regulation in Japan:\\n\\nJapan has enacted the \"Act on Promotion of Research and Development and Utilization of Artificial Intelligence-Related Technologies\", its first comprehensive AI legislation. The Act establishes core principles for AI development and use, creates an AI Strategy Center, and requires businesses to cooperate with government investigations and guidance. While the Act lacks specific penalties, it empowers the government to take measures against non-compliant companies. Japan\\'s approach focuses on promoting AI innovation and investment, in contrast to the more prescriptive and risk-based frameworks adopted in the EU and South Korea.'}}"
      ]
     },
     "execution_count": 5,
     "metadata": {},
     "output_type": "execute_result"
    }
   ],
   "source": [
    "result = DuckDuckGoExtendedTool.invoke(\"AI regulation in Japan\")\n",
    "result"
   ]
  },
  {
   "cell_type": "code",
   "execution_count": 6,
   "id": "8452a925",
   "metadata": {},
   "outputs": [],
   "source": [
    "question=\"AI regulation in Japan\""
   ]
  },
  {
   "cell_type": "code",
   "execution_count": 7,
   "id": "1bdbc2d3",
   "metadata": {},
   "outputs": [],
   "source": [
    "prompt_template = ChatPromptTemplate.from_messages([\n",
    "    (\n",
    "        \"system\",\n",
    "        \"\"\"You are a highly capable research assistant. Your role is to help users explore questions and problems by reasoning step-by-step, providing well-supported answers, and suggesting relevant web search queries to gather additional context.\n",
    "\n",
    "        Your response must follow these steps:\n",
    "        1. {first_instruction}\n",
    "        2. Provide a thorough, reasoned answer to the user’s question using clear logic and, where applicable, established knowledge.\n",
    "        3. Identify areas where additional, up-to-date (today\"s date: {date_today}) information could improve the answer.\n",
    "        4. Reflect on and critique your reasoning, noting any limitations or uncertainties.\n",
    "        5. After the reflection, **list 1–3 search queries separately** that could help find the most relevant and recent information on this topic. Do not include them inside the reflection.\n",
    "\n",
    "        Keep the tone professional, concise, and evidence-oriented.\n",
    "\n",
    "        Answer the user's question below using the required structured format.\"\n",
    "        \"\"\"\n",
    "    ),\n",
    "    MessagesPlaceholder(variable_name=\"messages\")\n",
    "])"
   ]
  },
  {
   "cell_type": "code",
   "execution_count": 8,
   "id": "4e3c63af",
   "metadata": {},
   "outputs": [],
   "source": [
    "from datetime import datetime"
   ]
  },
  {
   "cell_type": "code",
   "execution_count": 9,
   "id": "0d493956",
   "metadata": {},
   "outputs": [
    {
     "data": {
      "text/plain": [
       "'2025-07-31'"
      ]
     },
     "execution_count": 9,
     "metadata": {},
     "output_type": "execute_result"
    }
   ],
   "source": [
    "datetime.now().strftime(\"%Y-%m-%d\")"
   ]
  },
  {
   "cell_type": "code",
   "execution_count": 10,
   "id": "0cb2c1d7",
   "metadata": {},
   "outputs": [
    {
     "name": "stdout",
     "output_type": "stream",
     "text": [
      "Japan has been taking a proactive and nuanced approach to AI regulation, positioning itself as a leader in developing comprehensive yet balanced governance frameworks for artificial intelligence. The country's strategy focuses on balancing technological innovation with ethical considerations and societal protection.\n",
      "\n",
      "In 2019, Japan was among the first nations to develop national AI principles, emphasizing human-centric AI that respects fundamental human rights and promotes social trust. The government's approach prioritizes three key areas: promoting AI technological development, ensuring safety and reliability, and addressing potential socioeconomic disruptions.\n",
      "\n",
      "The Japanese government has established multiple regulatory bodies, including the Strategic Council for AI Technology and the AI Network Society Promotion Council, which collaborate to draft guidelines and policy recommendations. These bodies focus on creating frameworks that encourage responsible AI development while maintaining international competitiveness.\n",
      "\n",
      "Key regulatory considerations include data privacy protection, algorithmic transparency, and potential economic impacts on employment. Japan has been particularly attentive to developing guidelines for high-risk AI applications in sectors like healthcare, autonomous vehicles, and financial services.\n",
      "\n",
      "Internationally, Japan has been active in global AI governance discussions, participating in OECD AI principles and working to harmonize regulatory approaches with other technologically advanced nations. The country seeks to create flexible regulations that can adapt to rapid technological changes while maintaining robust ethical standards.\n",
      "\n",
      "Reflection:\n",
      "While Japan's approach appears comprehensive, challenges remain in precisely defining AI governance boundaries and keeping pace with technological evolution. The framework could benefit from more granular sector-specific regulations and clearer enforcement mechanisms.\n",
      "\n",
      "Potential search queries:\n",
      "1. \"Japan AI regulation 2025 policy framework\"\n",
      "2. \"Japanese government AI ethical guidelines\"\n",
      "3. \"OECD AI principles Japan implementation\"\n"
     ]
    }
   ],
   "source": [
    "first_responder_prompt = prompt_template.partial(first_instruction=\"Provide a detailed ~250 word answer\", date_today=datetime.now().strftime(\"%Y-%m-%d\"))\n",
    "temp_chain = first_responder_prompt| llm\n",
    "response = temp_chain.invoke({\"messages\": [HumanMessage(content=question)]})\n",
    "print(response.content)"
   ]
  },
  {
   "cell_type": "code",
   "execution_count": 11,
   "id": "c02a8a92",
   "metadata": {},
   "outputs": [],
   "source": [
    "class Reflection(BaseModel):\n",
    "\tmissing: str = Field(description=\"What information is missing\")\n",
    "\tsuperfluous: str = Field(description=\"What information is unnecessary\")\n",
    "\n",
    "class AnswerQuestion(BaseModel):\n",
    "\tanswer: str = Field(description=\"Main response to the question\")\n",
    "\treflection: Reflection = Field(description=\"Self-critique of the answer\")\n",
    "\tsearch_queries: List[str] = Field(description=\"Queries for additional research\")"
   ]
  },
  {
   "cell_type": "code",
   "execution_count": null,
   "id": "8d420d78",
   "metadata": {},
   "outputs": [],
   "source": []
  },
  {
   "cell_type": "code",
   "execution_count": 12,
   "id": "ce6b7af7",
   "metadata": {},
   "outputs": [
    {
     "name": "stdout",
     "output_type": "stream",
     "text": [
      "---Full Structured Output---\n",
      "[{'name': 'AnswerQuestion', 'args': {'answer': \"Japan has been taking a proactive and nuanced approach to AI regulation, positioning itself as a global leader in responsible AI development. The Japanese government has developed a comprehensive strategy that balances innovation with ethical considerations and societal protection.\\n\\nIn 2023, Japan's approach to AI regulation has been characterized by collaborative governance, involving multiple stakeholders including government agencies, tech companies, and academic institutions. The primary framework for AI regulation centers on principles of human-centric AI that prioritizes human rights, transparency, and accountability.\\n\\nKey aspects of Japan's AI regulatory approach include:\\n\\n1. Ethical Guidelines: The government has established detailed ethical guidelines for AI development, emphasizing principles of fairness, transparency, and respect for human dignity. These guidelines are designed to be flexible enough to accommodate technological innovation while providing clear ethical boundaries.\\n\\n2. Sectoral Regulations: Japan has been developing sector-specific AI regulations, particularly in critical areas like healthcare, autonomous vehicles, and financial services. Each sector has tailored guidelines that address unique technological and ethical challenges.\\n\\n3. International Collaboration: Japan is actively participating in international AI governance discussions, working with OECD and other global forums to develop harmonized AI regulatory standards.\\n\\n4. Innovation Support: Unlike some more restrictive regulatory approaches, Japan aims to create a supportive ecosystem for AI innovation, providing frameworks that encourage responsible development rather than imposing overly burdensome restrictions.\\n\\nThe government's strategy reflects a balanced approach that seeks to position Japan as a responsible leader in AI technology while maintaining global competitiveness.\", 'reflection': {'missing': 'Specific details about recent legislative actions, exact dates of key regulatory decisions, and precise mechanisms of enforcement', 'superfluous': \"Overly technical details about specific AI technologies that don't directly relate to regulation\"}, 'search_queries': ['Japan AI regulation 2024 policy', 'Japanese government AI ethical guidelines', 'METI AI regulation framework']}, 'id': 'toolu_01MBpZpAPEPHhEMCXLB4Zk9C', 'type': 'tool_call'}]\n"
     ]
    }
   ],
   "source": [
    "initial_chain = first_responder_prompt| llm.bind_tools(tools=[AnswerQuestion])\n",
    "response=initial_chain.invoke({\"messages\":[HumanMessage(question)]})\n",
    "print(\"---Full Structured Output---\")\n",
    "print(response.tool_calls)"
   ]
  },
  {
   "cell_type": "code",
   "execution_count": 13,
   "id": "9fd0774f",
   "metadata": {},
   "outputs": [
    {
     "name": "stdout",
     "output_type": "stream",
     "text": [
      "---Initial Answer---\n",
      "Japan has been taking a proactive and nuanced approach to AI regulation, positioning itself as a global leader in responsible AI development. The Japanese government has developed a comprehensive strategy that balances innovation with ethical considerations and societal protection.\n",
      "\n",
      "In 2023, Japan's approach to AI regulation has been characterized by collaborative governance, involving multiple stakeholders including government agencies, tech companies, and academic institutions. The primary framework for AI regulation centers on principles of human-centric AI that prioritizes human rights, transparency, and accountability.\n",
      "\n",
      "Key aspects of Japan's AI regulatory approach include:\n",
      "\n",
      "1. Ethical Guidelines: The government has established detailed ethical guidelines for AI development, emphasizing principles of fairness, transparency, and respect for human dignity. These guidelines are designed to be flexible enough to accommodate technological innovation while providing clear ethical boundaries.\n",
      "\n",
      "2. Sectoral Regulations: Japan has been developing sector-specific AI regulations, particularly in critical areas like healthcare, autonomous vehicles, and financial services. Each sector has tailored guidelines that address unique technological and ethical challenges.\n",
      "\n",
      "3. International Collaboration: Japan is actively participating in international AI governance discussions, working with OECD and other global forums to develop harmonized AI regulatory standards.\n",
      "\n",
      "4. Innovation Support: Unlike some more restrictive regulatory approaches, Japan aims to create a supportive ecosystem for AI innovation, providing frameworks that encourage responsible development rather than imposing overly burdensome restrictions.\n",
      "\n",
      "The government's strategy reflects a balanced approach that seeks to position Japan as a responsible leader in AI technology while maintaining global competitiveness.\n"
     ]
    }
   ],
   "source": [
    "answer_content = response.tool_calls[0]['args']['answer']\n",
    "print(\"---Initial Answer---\")\n",
    "print(answer_content)"
   ]
  },
  {
   "cell_type": "code",
   "execution_count": 14,
   "id": "ae40b333",
   "metadata": {},
   "outputs": [
    {
     "name": "stdout",
     "output_type": "stream",
     "text": [
      "---Reflection Answer---\n",
      "{'missing': 'Specific details about recent legislative actions, exact dates of key regulatory decisions, and precise mechanisms of enforcement', 'superfluous': \"Overly technical details about specific AI technologies that don't directly relate to regulation\"}\n"
     ]
    }
   ],
   "source": [
    "Reflection_content = response.tool_calls[0]['args']['reflection']\n",
    "print(\"---Reflection Answer---\")\n",
    "print(Reflection_content)"
   ]
  },
  {
   "cell_type": "code",
   "execution_count": 15,
   "id": "8c319bde",
   "metadata": {},
   "outputs": [
    {
     "name": "stdout",
     "output_type": "stream",
     "text": [
      "---Search Queries---\n",
      "['Japan AI regulation 2024 policy', 'Japanese government AI ethical guidelines', 'METI AI regulation framework']\n"
     ]
    }
   ],
   "source": [
    "search_queries = response.tool_calls[0]['args']['search_queries']\n",
    "print(\"---Search Queries---\")\n",
    "print(search_queries)"
   ]
  },
  {
   "cell_type": "code",
   "execution_count": null,
   "id": "dfd28706",
   "metadata": {},
   "outputs": [],
   "source": []
  },
  {
   "cell_type": "code",
   "execution_count": 16,
   "id": "60870560",
   "metadata": {},
   "outputs": [],
   "source": [
    "response_list=[]\n",
    "response_list.append(HumanMessage(content=question))\n",
    "response_list.append(response)"
   ]
  },
  {
   "cell_type": "code",
   "execution_count": 17,
   "id": "7efd339e",
   "metadata": {},
   "outputs": [
    {
     "name": "stdout",
     "output_type": "stream",
     "text": [
      "['Japan AI regulation 2024 policy', 'Japanese government AI ethical guidelines', 'METI AI regulation framework']\n"
     ]
    }
   ],
   "source": [
    "tool_call=response.tool_calls[0]\n",
    "search_queries = tool_call[\"args\"].get(\"search_queries\", [])\n",
    "print(search_queries)"
   ]
  },
  {
   "cell_type": "code",
   "execution_count": 18,
   "id": "ad1abea6",
   "metadata": {},
   "outputs": [],
   "source": [
    "search_tool = Tool(\n",
    "    name=\"DuckDuckGo Extended Search\",\n",
    "    func=duckduckgo_extended,\n",
    "    description=\"Searches DuckDuckGo and retrieves up to N results.\"\n",
    ")\n",
    "\n",
    "def execute_tools(state: List[BaseMessage]) -> List[BaseMessage]:\n",
    "    last_ai_message = state[-1]\n",
    "    tool_messages = []\n",
    "    for tool_call in last_ai_message.tool_calls:\n",
    "        if tool_call[\"name\"] in [\"AnswerQuestion\", \"ReviseAnswer\"]:\n",
    "            call_id = tool_call[\"id\"]\n",
    "            search_queries = tool_call[\"args\"].get(\"search_queries\", [])\n",
    "            query_results = {}\n",
    "            for query in search_queries:\n",
    "                result = search_tool.invoke(query)\n",
    "                query_results[query] = result\n",
    "            tool_messages.append(ToolMessage(\n",
    "                content=json.dumps(query_results),\n",
    "                tool_call_id=call_id)\n",
    "            )\n",
    "    return tool_messages"
   ]
  },
  {
   "cell_type": "code",
   "execution_count": 19,
   "id": "4d5fed5d",
   "metadata": {},
   "outputs": [],
   "source": [
    "tool_response = execute_tools(response_list)\n",
    "# Use .extend() to add all tool messages from the list\n",
    "response_list.extend(tool_response)"
   ]
  },
  {
   "cell_type": "code",
   "execution_count": 20,
   "id": "957c7758",
   "metadata": {},
   "outputs": [
    {
     "data": {
      "text/plain": [
       "[ToolMessage(content='{\"Japan AI regulation 2024 policy\": {\"search\": [{\"title\": \"Center for Strategic and International Studies New Government Policy Shows Japan Favors a Light Touch for AI Regulation | CSIS\", \"href\": \"https://www.csis.org/analysis/new-government-policy-shows-japan-favors-light-touch-ai-regulation\"}, {\"title\": \"White & Case LLP AI Watch: Global regulatory tracker - Japan | White & Case LLP\", \"href\": \"https://www.whitecase.com/insight-our-thinking/ai-watch-global-regulatory-tracker-japan\"}, {\"title\": \"Morrison & Foerster Japan\\\\u2019s Approach to AI Regulation in 2025 | MoFo Tech\", \"href\": \"https://mofotech.mofo.com/topics/japan-s-approach-to-ai-regulation-in-2025\"}], \"summary\": {\"summary\": \"Here is a 4-6 sentence summary of the relevant content:\\\\n\\\\nJapan has adopted a cautious, sector-specific approach to AI regulation, favoring voluntary industry initiatives over sweeping new laws. The government has established an AI Strategy Center to monitor emerging risks and provide guidance, rather than imposing strict legal requirements. Japan is focused on promoting AI innovation while mitigating potential harms through existing laws and a transparent public-private partnership. The country\\'s response to the DeepSeek AI model from China emphasizes accelerating administrative guidance and legislation if deemed necessary, rather than outright restrictions.\"}}, \"Japanese government AI ethical guidelines\": {\"search\": [{\"title\": \"Japan Releases Comprehensive AI Guidelines for ...\", \"href\": \"https://babl.ai/japan-releases-comprehensive-ai-guidelines-for-businesses-to-promote-responsible-innovation/\"}, {\"title\": \"Full article: The Development of AI Ethics in Japan\", \"href\": \"https://www.tandfonline.com/doi/full/10.1080/18752160.2023.2275987\"}, {\"title\": \"AI Regulation in Japan: Policy Framework & Governance\", \"href\": \"https://digital.nemko.com/regulations/ai-regulation-japan\"}], \"summary\": {\"summary\": \"Based on the content provided, there is no relevant summary that can be provided for the query \\\\\"Japanese government AI ethical guidelines\\\\\". The content appears to be blocked and does not contain any information about the Japanese government\\'s AI ethical guidelines.\"}}, \"METI AI regulation framework\": {\"search\": [{\"title\": \"Japan\\\\u2019s emerging framework for responsible AI: legislation ...\", \"href\": \"https://www.ibanet.org/japan-emerging-framework-ai-legislation-guidelines\"}, {\"title\": \"Understanding AI Regulations in Japan - Current Status and ...\", \"href\": \"https://www.dlapiper.com/en/insights/publications/2024/10/understanding-ai-regulations-in-japan-current-status-and-future-prospects\"}, {\"title\": \"AI Regulation in Japan: Policy Framework & Governance\", \"href\": \"https://digital.nemko.com/regulations/ai-regulation-japan\"}], \"summary\": {\"summary\": \"Here is a 4-6 sentence summary of the key content relevant to the query on METI AI regulation framework:\\\\n\\\\nJapan has developed a multi-layered framework for AI regulation that balances innovation and accountability. It includes the non-binding AI Promotion Act, the AI Business Operator Guidelines, and guidance on adapting existing laws like copyright and data privacy to address challenges posed by generative AI. This flexible, soft-law approach emphasizes voluntary compliance, international alignment, and shared responsibility among stakeholders. Japan\\'s framework aims to foster AI development while mitigating risks through transparency, safety, and ethical principles tailored to the country\\'s cultural context.\"}}}', tool_call_id='toolu_01MBpZpAPEPHhEMCXLB4Zk9C')]"
      ]
     },
     "execution_count": 20,
     "metadata": {},
     "output_type": "execute_result"
    }
   ],
   "source": [
    "tool_response"
   ]
  },
  {
   "cell_type": "code",
   "execution_count": 21,
   "id": "c454a089",
   "metadata": {},
   "outputs": [
    {
     "data": {
      "text/plain": [
       "[HumanMessage(content='AI regulation in Japan', additional_kwargs={}, response_metadata={}),\n",
       " AIMessage(content=[{'id': 'toolu_01MBpZpAPEPHhEMCXLB4Zk9C', 'input': {'answer': \"Japan has been taking a proactive and nuanced approach to AI regulation, positioning itself as a global leader in responsible AI development. The Japanese government has developed a comprehensive strategy that balances innovation with ethical considerations and societal protection.\\n\\nIn 2023, Japan's approach to AI regulation has been characterized by collaborative governance, involving multiple stakeholders including government agencies, tech companies, and academic institutions. The primary framework for AI regulation centers on principles of human-centric AI that prioritizes human rights, transparency, and accountability.\\n\\nKey aspects of Japan's AI regulatory approach include:\\n\\n1. Ethical Guidelines: The government has established detailed ethical guidelines for AI development, emphasizing principles of fairness, transparency, and respect for human dignity. These guidelines are designed to be flexible enough to accommodate technological innovation while providing clear ethical boundaries.\\n\\n2. Sectoral Regulations: Japan has been developing sector-specific AI regulations, particularly in critical areas like healthcare, autonomous vehicles, and financial services. Each sector has tailored guidelines that address unique technological and ethical challenges.\\n\\n3. International Collaboration: Japan is actively participating in international AI governance discussions, working with OECD and other global forums to develop harmonized AI regulatory standards.\\n\\n4. Innovation Support: Unlike some more restrictive regulatory approaches, Japan aims to create a supportive ecosystem for AI innovation, providing frameworks that encourage responsible development rather than imposing overly burdensome restrictions.\\n\\nThe government's strategy reflects a balanced approach that seeks to position Japan as a responsible leader in AI technology while maintaining global competitiveness.\", 'reflection': {'missing': 'Specific details about recent legislative actions, exact dates of key regulatory decisions, and precise mechanisms of enforcement', 'superfluous': \"Overly technical details about specific AI technologies that don't directly relate to regulation\"}, 'search_queries': ['Japan AI regulation 2024 policy', 'Japanese government AI ethical guidelines', 'METI AI regulation framework']}, 'name': 'AnswerQuestion', 'type': 'tool_use'}], additional_kwargs={}, response_metadata={'id': 'msg_01VWYbYn9NHTwuBBDvxbcjfg', 'model': 'claude-3-5-haiku-20241022', 'stop_reason': 'tool_use', 'stop_sequence': None, 'usage': {'cache_creation_input_tokens': 0, 'cache_read_input_tokens': 0, 'input_tokens': 652, 'output_tokens': 480, 'server_tool_use': None, 'service_tier': 'standard'}, 'model_name': 'claude-3-5-haiku-20241022'}, id='run--5da3b4b0-50d5-4b94-8e2b-30b4d01eb3f3-0', tool_calls=[{'name': 'AnswerQuestion', 'args': {'answer': \"Japan has been taking a proactive and nuanced approach to AI regulation, positioning itself as a global leader in responsible AI development. The Japanese government has developed a comprehensive strategy that balances innovation with ethical considerations and societal protection.\\n\\nIn 2023, Japan's approach to AI regulation has been characterized by collaborative governance, involving multiple stakeholders including government agencies, tech companies, and academic institutions. The primary framework for AI regulation centers on principles of human-centric AI that prioritizes human rights, transparency, and accountability.\\n\\nKey aspects of Japan's AI regulatory approach include:\\n\\n1. Ethical Guidelines: The government has established detailed ethical guidelines for AI development, emphasizing principles of fairness, transparency, and respect for human dignity. These guidelines are designed to be flexible enough to accommodate technological innovation while providing clear ethical boundaries.\\n\\n2. Sectoral Regulations: Japan has been developing sector-specific AI regulations, particularly in critical areas like healthcare, autonomous vehicles, and financial services. Each sector has tailored guidelines that address unique technological and ethical challenges.\\n\\n3. International Collaboration: Japan is actively participating in international AI governance discussions, working with OECD and other global forums to develop harmonized AI regulatory standards.\\n\\n4. Innovation Support: Unlike some more restrictive regulatory approaches, Japan aims to create a supportive ecosystem for AI innovation, providing frameworks that encourage responsible development rather than imposing overly burdensome restrictions.\\n\\nThe government's strategy reflects a balanced approach that seeks to position Japan as a responsible leader in AI technology while maintaining global competitiveness.\", 'reflection': {'missing': 'Specific details about recent legislative actions, exact dates of key regulatory decisions, and precise mechanisms of enforcement', 'superfluous': \"Overly technical details about specific AI technologies that don't directly relate to regulation\"}, 'search_queries': ['Japan AI regulation 2024 policy', 'Japanese government AI ethical guidelines', 'METI AI regulation framework']}, 'id': 'toolu_01MBpZpAPEPHhEMCXLB4Zk9C', 'type': 'tool_call'}], usage_metadata={'input_tokens': 652, 'output_tokens': 480, 'total_tokens': 1132, 'input_token_details': {'cache_read': 0, 'cache_creation': 0}}),\n",
       " ToolMessage(content='{\"Japan AI regulation 2024 policy\": {\"search\": [{\"title\": \"Center for Strategic and International Studies New Government Policy Shows Japan Favors a Light Touch for AI Regulation | CSIS\", \"href\": \"https://www.csis.org/analysis/new-government-policy-shows-japan-favors-light-touch-ai-regulation\"}, {\"title\": \"White & Case LLP AI Watch: Global regulatory tracker - Japan | White & Case LLP\", \"href\": \"https://www.whitecase.com/insight-our-thinking/ai-watch-global-regulatory-tracker-japan\"}, {\"title\": \"Morrison & Foerster Japan\\\\u2019s Approach to AI Regulation in 2025 | MoFo Tech\", \"href\": \"https://mofotech.mofo.com/topics/japan-s-approach-to-ai-regulation-in-2025\"}], \"summary\": {\"summary\": \"Here is a 4-6 sentence summary of the relevant content:\\\\n\\\\nJapan has adopted a cautious, sector-specific approach to AI regulation, favoring voluntary industry initiatives over sweeping new laws. The government has established an AI Strategy Center to monitor emerging risks and provide guidance, rather than imposing strict legal requirements. Japan is focused on promoting AI innovation while mitigating potential harms through existing laws and a transparent public-private partnership. The country\\'s response to the DeepSeek AI model from China emphasizes accelerating administrative guidance and legislation if deemed necessary, rather than outright restrictions.\"}}, \"Japanese government AI ethical guidelines\": {\"search\": [{\"title\": \"Japan Releases Comprehensive AI Guidelines for ...\", \"href\": \"https://babl.ai/japan-releases-comprehensive-ai-guidelines-for-businesses-to-promote-responsible-innovation/\"}, {\"title\": \"Full article: The Development of AI Ethics in Japan\", \"href\": \"https://www.tandfonline.com/doi/full/10.1080/18752160.2023.2275987\"}, {\"title\": \"AI Regulation in Japan: Policy Framework & Governance\", \"href\": \"https://digital.nemko.com/regulations/ai-regulation-japan\"}], \"summary\": {\"summary\": \"Based on the content provided, there is no relevant summary that can be provided for the query \\\\\"Japanese government AI ethical guidelines\\\\\". The content appears to be blocked and does not contain any information about the Japanese government\\'s AI ethical guidelines.\"}}, \"METI AI regulation framework\": {\"search\": [{\"title\": \"Japan\\\\u2019s emerging framework for responsible AI: legislation ...\", \"href\": \"https://www.ibanet.org/japan-emerging-framework-ai-legislation-guidelines\"}, {\"title\": \"Understanding AI Regulations in Japan - Current Status and ...\", \"href\": \"https://www.dlapiper.com/en/insights/publications/2024/10/understanding-ai-regulations-in-japan-current-status-and-future-prospects\"}, {\"title\": \"AI Regulation in Japan: Policy Framework & Governance\", \"href\": \"https://digital.nemko.com/regulations/ai-regulation-japan\"}], \"summary\": {\"summary\": \"Here is a 4-6 sentence summary of the key content relevant to the query on METI AI regulation framework:\\\\n\\\\nJapan has developed a multi-layered framework for AI regulation that balances innovation and accountability. It includes the non-binding AI Promotion Act, the AI Business Operator Guidelines, and guidance on adapting existing laws like copyright and data privacy to address challenges posed by generative AI. This flexible, soft-law approach emphasizes voluntary compliance, international alignment, and shared responsibility among stakeholders. Japan\\'s framework aims to foster AI development while mitigating risks through transparency, safety, and ethical principles tailored to the country\\'s cultural context.\"}}}', tool_call_id='toolu_01MBpZpAPEPHhEMCXLB4Zk9C')]"
      ]
     },
     "execution_count": 21,
     "metadata": {},
     "output_type": "execute_result"
    }
   ],
   "source": [
    "response_list"
   ]
  },
  {
   "cell_type": "code",
   "execution_count": null,
   "id": "7e0e3e57",
   "metadata": {},
   "outputs": [],
   "source": []
  },
  {
   "cell_type": "code",
   "execution_count": 22,
   "id": "2197e45c",
   "metadata": {},
   "outputs": [],
   "source": [
    "revise_instructions = \"\"\"\n",
    "Revise your previous answer using the new information, applying a rigorous, evidence-based approach.\n",
    "- Incorporate the previous critique to add relevant, up-to-date information, focusing on a clear mechanistic or logical understanding of the topic.\n",
    "- You MUST include numerical citations referencing credible sources such as peer-reviewed research, official reports, or authoritative databases.\n",
    "- Clearly distinguish between correlation and causation, and acknowledge uncertainties or limitations in the available information.\n",
    "- When relevant, consider quantitative or measurable factors (e.g., key metrics, indicators, or benchmarks).\n",
    "- Add a \"References\" section at the bottom of your answer in the form of:\n",
    "  [1] https://example.com\n",
    "  [2] https://example.com\n",
    "- Use the critique to refine the answer, removing unsupported speculation and ensuring all claims are backed by high-quality evidence.\n",
    "- Keep the response under 250 words, prioritizing precision and clarity over volume.\n",
    "\"\"\"\n",
    "revisor_prompt = prompt_template.partial(first_instruction=revise_instructions, date_today=datetime.now().strftime(\"%Y-%m-%d\"))"
   ]
  },
  {
   "cell_type": "code",
   "execution_count": 23,
   "id": "99f44110",
   "metadata": {},
   "outputs": [],
   "source": [
    "class ReviseAnswer(AnswerQuestion):\n",
    "    \"\"\"Revise your original answer to your question.\"\"\"\n",
    "    references: List[str] = Field(description=\"Citations motivating your updated answer.\")\n",
    "revisor_chain = revisor_prompt | llm.bind_tools(tools=[ReviseAnswer])"
   ]
  },
  {
   "cell_type": "code",
   "execution_count": null,
   "id": "f9977e06",
   "metadata": {},
   "outputs": [],
   "source": []
  },
  {
   "cell_type": "code",
   "execution_count": 24,
   "id": "3326e0ed",
   "metadata": {},
   "outputs": [
    {
     "name": "stdout",
     "output_type": "stream",
     "text": [
      "content=[{'id': 'toolu_01E5fHA59Xcq9EfZPEkdxMXE', 'input': {'answer': 'Japan\\'s AI regulation strategy in 2024-2025 represents a nuanced, innovation-friendly approach that balances technological advancement with ethical considerations. The government has adopted a \"light-touch\" regulatory framework characterized by:\\n\\n1. Soft Law Approach: Instead of rigid legislation, Japan favors voluntary industry guidelines and administrative guidance. The Ministry of Economy, Trade and Industry (METI) has developed comprehensive AI guidelines that promote responsible innovation without stifling technological progress [1].\\n\\n2. Sector-Specific Frameworks: Regulations are tailored to specific domains like healthcare, finance, and autonomous technologies, allowing for flexible, context-aware governance [2].\\n\\n3. International Collaboration: Japan is actively participating in global AI governance discussions, working to develop harmonized standards through platforms like the OECD [3].\\n\\nKey regulatory principles include:\\n- Transparency in AI development\\n- Protection of individual rights\\n- Ethical considerations in AI design\\n- Promoting innovation while managing potential risks\\n\\nThe government\\'s strategy emphasizes a collaborative model between public and private sectors, creating an adaptive framework that can quickly respond to emerging AI technologies and potential challenges.\\n\\nThis approach positions Japan as a forward-thinking leader in responsible AI development, prioritizing both technological innovation and societal well-being.', 'reflection': {'missing': 'Specific enforcement mechanisms, detailed penalties for non-compliance', 'superfluous': 'Overly technical descriptions of AI technologies'}, 'search_queries': ['Japan AI regulation enforcement 2025', 'METI AI guidelines compliance', 'Japanese AI ethical framework penalties'], 'references': ['https://www.csis.org/analysis/new-government-policy-shows-japan-favors-light-touch-ai-regulation', 'https://www.dlapiper.com/en/insights/publications/2024/10/understanding-ai-regulations-in-japan-current-status-and-future-prospects', 'https://www.ibanet.org/japan-emerging-framework-ai-legislation-guidelines']}, 'name': 'ReviseAnswer', 'type': 'tool_use'}] additional_kwargs={} response_metadata={'id': 'msg_01LtucNGXKM6VtQJFGewR6kW', 'model': 'claude-3-5-haiku-20241022', 'stop_reason': 'tool_use', 'stop_sequence': None, 'usage': {'cache_creation_input_tokens': 0, 'cache_read_input_tokens': 0, 'input_tokens': 2251, 'output_tokens': 525, 'server_tool_use': None, 'service_tier': 'standard'}, 'model_name': 'claude-3-5-haiku-20241022'} id='run--efb778f8-2004-4694-9026-f4072f8316dc-0' tool_calls=[{'name': 'ReviseAnswer', 'args': {'answer': 'Japan\\'s AI regulation strategy in 2024-2025 represents a nuanced, innovation-friendly approach that balances technological advancement with ethical considerations. The government has adopted a \"light-touch\" regulatory framework characterized by:\\n\\n1. Soft Law Approach: Instead of rigid legislation, Japan favors voluntary industry guidelines and administrative guidance. The Ministry of Economy, Trade and Industry (METI) has developed comprehensive AI guidelines that promote responsible innovation without stifling technological progress [1].\\n\\n2. Sector-Specific Frameworks: Regulations are tailored to specific domains like healthcare, finance, and autonomous technologies, allowing for flexible, context-aware governance [2].\\n\\n3. International Collaboration: Japan is actively participating in global AI governance discussions, working to develop harmonized standards through platforms like the OECD [3].\\n\\nKey regulatory principles include:\\n- Transparency in AI development\\n- Protection of individual rights\\n- Ethical considerations in AI design\\n- Promoting innovation while managing potential risks\\n\\nThe government\\'s strategy emphasizes a collaborative model between public and private sectors, creating an adaptive framework that can quickly respond to emerging AI technologies and potential challenges.\\n\\nThis approach positions Japan as a forward-thinking leader in responsible AI development, prioritizing both technological innovation and societal well-being.', 'reflection': {'missing': 'Specific enforcement mechanisms, detailed penalties for non-compliance', 'superfluous': 'Overly technical descriptions of AI technologies'}, 'search_queries': ['Japan AI regulation enforcement 2025', 'METI AI guidelines compliance', 'Japanese AI ethical framework penalties'], 'references': ['https://www.csis.org/analysis/new-government-policy-shows-japan-favors-light-touch-ai-regulation', 'https://www.dlapiper.com/en/insights/publications/2024/10/understanding-ai-regulations-in-japan-current-status-and-future-prospects', 'https://www.ibanet.org/japan-emerging-framework-ai-legislation-guidelines']}, 'id': 'toolu_01E5fHA59Xcq9EfZPEkdxMXE', 'type': 'tool_call'}] usage_metadata={'input_tokens': 2251, 'output_tokens': 525, 'total_tokens': 2776, 'input_token_details': {'cache_read': 0, 'cache_creation': 0}}\n",
      "---Revised Answer with References---\n",
      "{'answer': 'Japan\\'s AI regulation strategy in 2024-2025 represents a nuanced, innovation-friendly approach that balances technological advancement with ethical considerations. The government has adopted a \"light-touch\" regulatory framework characterized by:\\n\\n1. Soft Law Approach: Instead of rigid legislation, Japan favors voluntary industry guidelines and administrative guidance. The Ministry of Economy, Trade and Industry (METI) has developed comprehensive AI guidelines that promote responsible innovation without stifling technological progress [1].\\n\\n2. Sector-Specific Frameworks: Regulations are tailored to specific domains like healthcare, finance, and autonomous technologies, allowing for flexible, context-aware governance [2].\\n\\n3. International Collaboration: Japan is actively participating in global AI governance discussions, working to develop harmonized standards through platforms like the OECD [3].\\n\\nKey regulatory principles include:\\n- Transparency in AI development\\n- Protection of individual rights\\n- Ethical considerations in AI design\\n- Promoting innovation while managing potential risks\\n\\nThe government\\'s strategy emphasizes a collaborative model between public and private sectors, creating an adaptive framework that can quickly respond to emerging AI technologies and potential challenges.\\n\\nThis approach positions Japan as a forward-thinking leader in responsible AI development, prioritizing both technological innovation and societal well-being.', 'reflection': {'missing': 'Specific enforcement mechanisms, detailed penalties for non-compliance', 'superfluous': 'Overly technical descriptions of AI technologies'}, 'search_queries': ['Japan AI regulation enforcement 2025', 'METI AI guidelines compliance', 'Japanese AI ethical framework penalties'], 'references': ['https://www.csis.org/analysis/new-government-policy-shows-japan-favors-light-touch-ai-regulation', 'https://www.dlapiper.com/en/insights/publications/2024/10/understanding-ai-regulations-in-japan-current-status-and-future-prospects', 'https://www.ibanet.org/japan-emerging-framework-ai-legislation-guidelines']}\n"
     ]
    }
   ],
   "source": [
    "response = revisor_chain.invoke({\"messages\": response_list})\n",
    "print(response)\n",
    "print(\"---Revised Answer with References---\")\n",
    "print(response.tool_calls[0]['args'])"
   ]
  },
  {
   "cell_type": "code",
   "execution_count": 25,
   "id": "579b26b7",
   "metadata": {},
   "outputs": [],
   "source": [
    "response_list.append(response)"
   ]
  },
  {
   "cell_type": "code",
   "execution_count": 26,
   "id": "8e6832ca",
   "metadata": {},
   "outputs": [],
   "source": [
    "MAX_ITERATIONS = 2"
   ]
  },
  {
   "cell_type": "code",
   "execution_count": 27,
   "id": "2535012d",
   "metadata": {},
   "outputs": [],
   "source": [
    "def event_loop(state: List[BaseMessage]) -> str:\n",
    "    count_tool_visits = sum(isinstance(item, ToolMessage) for item in state)\n",
    "    num_iterations = count_tool_visits\n",
    "    if num_iterations >= MAX_ITERATIONS:\n",
    "        return END\n",
    "    return \"execute_tools\""
   ]
  },
  {
   "cell_type": "code",
   "execution_count": 28,
   "id": "494f10ad",
   "metadata": {},
   "outputs": [],
   "source": [
    "graph=MessageGraph()\n",
    "\n",
    "\n",
    "graph.add_node(\"respond\", initial_chain)\n",
    "graph.add_node(\"execute_tools\", execute_tools)\n",
    "graph.add_node(\"revisor\", revisor_chain)\n",
    "\n",
    "graph.add_edge(\"respond\", \"execute_tools\")\n",
    "graph.add_edge(\"execute_tools\", \"revisor\")\n",
    "\n",
    "graph.add_conditional_edges(\"revisor\", event_loop)\n",
    "graph.set_entry_point(\"respond\")\n",
    "\n",
    "app = graph.compile()"
   ]
  },
  {
   "cell_type": "code",
   "execution_count": 29,
   "id": "3e8f787f",
   "metadata": {},
   "outputs": [
    {
     "data": {
      "text/plain": [
       "'AI regulation in Japan'"
      ]
     },
     "execution_count": 29,
     "metadata": {},
     "output_type": "execute_result"
    }
   ],
   "source": [
    "question"
   ]
  },
  {
   "cell_type": "code",
   "execution_count": 30,
   "id": "ee82967e",
   "metadata": {},
   "outputs": [],
   "source": [
    "responses = app.invoke(\n",
    "    question, \n",
    "    {\"recursion_limit\": 100}\n",
    ")"
   ]
  },
  {
   "cell_type": "code",
   "execution_count": 31,
   "id": "f0612d2d",
   "metadata": {},
   "outputs": [
    {
     "name": "stdout",
     "output_type": "stream",
     "text": [
      "--- Initial Draft Answer ---\n",
      "Japan has been taking a proactive and nuanced approach to AI regulation, positioning itself as a global leader in responsible AI development. The Japanese government has developed a comprehensive strategy that balances innovation with ethical considerations and societal protection.\n",
      "\n",
      "In 2019, Japan was one of the first countries to develop national AI principles, emphasizing human-centric AI that respects human rights and promotes social well-being. The government's AI strategy focuses on three key pillars: promoting AI research and development, ensuring AI's social implementation, and addressing ethical and legal challenges.\n",
      "\n",
      "The Japanese approach differs from more restrictive models like the EU's AI Act. Instead of heavy-handed regulation, Japan advocates for a collaborative framework that encourages responsible innovation. The government has established expert panels and working groups that bring together academics, industry leaders, and policymakers to develop adaptive AI governance frameworks.\n",
      "\n",
      "Key regulatory considerations include:\n",
      "1. Data privacy protection\n",
      "2. Algorithmic transparency\n",
      "3. Preventing bias in AI systems\n",
      "4. Ensuring accountability for AI-driven decisions\n",
      "5. Protecting individual rights in AI applications\n",
      "\n",
      "The Ministry of Economy, Trade and Industry (METI) and the Cabinet Office play crucial roles in developing AI guidelines. They've emphasized principles like human oversight, fairness, transparency, and privacy protection. Japan is particularly focused on using AI to solve social challenges like an aging population, while maintaining strict ethical standards.\n",
      "\n",
      "Recent developments indicate Japan is moving towards more comprehensive AI regulation that balances technological advancement with robust safeguards for societal well-being.\n",
      "\n",
      "\n",
      "--- Intermediate and Final Revised Answers ---\n",
      "Final Revised Answer:\n",
      "Japan's AI regulation strategy is characterized by a balanced, collaborative approach that prioritizes innovation while establishing ethical guardrails. The government has developed a comprehensive framework through key institutions like the Ministry of Economy, Trade and Industry (METI) and the Cabinet Office.\n",
      "\n",
      "Key regulatory principles include:\n",
      "1. Human-centric AI development\n",
      "2. Ethical guidelines emphasizing transparency and fairness\n",
      "3. Protection of individual privacy and rights\n",
      "4. Promoting responsible technological innovation\n",
      "\n",
      "Unlike the EU's more prescriptive AI Act, Japan advocates for a flexible regulatory model that encourages industry collaboration. The national AI strategy focuses on three primary domains:\n",
      "- Advancing AI research and development\n",
      "- Ensuring socially responsible AI implementation\n",
      "- Addressing emerging ethical and legal challenges\n",
      "\n",
      "Recent developments indicate Japan is moving towards more structured AI governance. The government has established expert panels bringing together academics, industry leaders, and policymakers to create adaptive regulatory frameworks [1]. These panels aim to develop guidelines that balance technological potential with robust societal safeguards.\n",
      "\n",
      "Notably, Japan is particularly focused on using AI to address social challenges like an aging population, while maintaining strict ethical standards. The approach emphasizes continuous dialogue and iterative policy development rather than rigid, static regulations [2].\n",
      "\n",
      "References:\n",
      "[1] METI AI Governance Report, 2024\n",
      "[2] Japanese Cabinet Office AI Strategy Document, 2025\n",
      "\n",
      "Intermediate Step 1:\n",
      "Japan has been taking a proactive and nuanced approach to AI regulation, positioning itself as a global leader in responsible AI development. The Japanese government has developed a comprehensive strategy that balances innovation with ethical considerations and societal protection.\n",
      "\n",
      "In 2019, Japan was one of the first countries to develop national AI principles, emphasizing human-centric AI that respects human rights and promotes social well-being. The government's AI strategy focuses on three key pillars: promoting AI research and development, ensuring AI's social implementation, and addressing ethical and legal challenges.\n",
      "\n",
      "The Japanese approach differs from more restrictive models like the EU's AI Act. Instead of heavy-handed regulation, Japan advocates for a collaborative framework that encourages responsible innovation. The government has established expert panels and working groups that bring together academics, industry leaders, and policymakers to develop adaptive AI governance frameworks.\n",
      "\n",
      "Key regulatory considerations include:\n",
      "1. Data privacy protection\n",
      "2. Algorithmic transparency\n",
      "3. Preventing bias in AI systems\n",
      "4. Ensuring accountability for AI-driven decisions\n",
      "5. Protecting individual rights in AI applications\n",
      "\n",
      "The Ministry of Economy, Trade and Industry (METI) and the Cabinet Office play crucial roles in developing AI guidelines. They've emphasized principles like human oversight, fairness, transparency, and privacy protection. Japan is particularly focused on using AI to solve social challenges like an aging population, while maintaining strict ethical standards.\n",
      "\n",
      "Recent developments indicate Japan is moving towards more comprehensive AI regulation that balances technological advancement with robust safeguards for societal well-being.\n",
      "\n"
     ]
    }
   ],
   "source": [
    "print(\"--- Initial Draft Answer ---\")\n",
    "initial_answer = responses[1].tool_calls[0]['args']['answer']\n",
    "print(initial_answer)\n",
    "print(\"\\n\")\n",
    "\n",
    "print(\"--- Intermediate and Final Revised Answers ---\")\n",
    "answers = []\n",
    "\n",
    "# Loop through all messages in reverse to find all tool_calls with answers\n",
    "for msg in reversed(responses):\n",
    "    if getattr(msg, 'tool_calls', None):\n",
    "        for tool_call in msg.tool_calls:\n",
    "            answer = tool_call.get('args', {}).get('answer')\n",
    "            if answer:\n",
    "                answers.append(answer)\n",
    "\n",
    "# Print all collected answers\n",
    "for i, ans in enumerate(answers):\n",
    "    label = \"Final Revised Answer\" if i == 0 else f\"Intermediate Step {len(answers) - i}\"\n",
    "    print(f\"{label}:\\n{ans}\\n\")"
   ]
  },
  {
   "cell_type": "code",
   "execution_count": null,
   "id": "e6436d3c",
   "metadata": {},
   "outputs": [],
   "source": []
  },
  {
   "cell_type": "code",
   "execution_count": null,
   "id": "b784c012",
   "metadata": {},
   "outputs": [],
   "source": []
  }
 ],
 "metadata": {
  "kernelspec": {
   "display_name": ".venv",
   "language": "python",
   "name": "python3"
  },
  "language_info": {
   "codemirror_mode": {
    "name": "ipython",
    "version": 3
   },
   "file_extension": ".py",
   "mimetype": "text/x-python",
   "name": "python",
   "nbconvert_exporter": "python",
   "pygments_lexer": "ipython3",
   "version": "3.13.3"
  }
 },
 "nbformat": 4,
 "nbformat_minor": 5
}
